{
 "cells": [
  {
   "cell_type": "markdown",
   "metadata": {},
   "source": [
    "<h1>Exercício 2</h1>\n",
    "\n",
    "Implementar uma função para solução numérica de sistema de equações obtido na\n",
    "análise estrutural de treliças planas. (Met.Jacobi e Gauss-Seidel).\n",
    "OBS: A função implementada deve ser válida para qualquer sistema de equações\n",
    "(𝑛 × 𝑛)\n",
    "\n",
    "\n",
    "A função deve receber como entrada os\n",
    "parâmetros:\n",
    "\n",
    "• ite: Número máximo de iterações.\n",
    "\n",
    "• tol: Tolerância para solução do sistema de\n",
    "equações.\n",
    "\n",
    "• K(freeDofs,freeDofs): Matriz de rigidez após\n",
    "aplicação das condições de contorno.\n",
    "\n",
    "• F(freeDofs,freeDofs): Vetor de forças após\n",
    "aplicação das condições de contorno.\n",
    "\n",
    "A função deve retornar os parâmetros:\n",
    "\n",
    "• U: Vetor solução do sistema de equações.\n",
    "\n",
    "• epson i: erro máximo"
   ]
  },
  {
   "cell_type": "code",
   "execution_count": 48,
   "metadata": {},
   "outputs": [
    {
     "name": "stdout",
     "output_type": "stream",
     "text": [
      "Chegou na tolerância!  8\n",
      "[[ 3. ]\n",
      " [-2.5]\n",
      " [ 7. ]]\n"
     ]
    }
   ],
   "source": [
    "#Jacobi:\n",
    "\n",
    "import numpy as np\n",
    "\n",
    "K = np.array([[1.59e8, -0.40e8, -0.54e8],\n",
    "              [-0.4e8,1.7e8,0.4e8],\n",
    "              [-0.54e8, 0.4e8, 0.54e8]])\n",
    "F = np.array([0, 150, -100])\n",
    "\n",
    "#K = np.array([[3, -0.1, -0.2],[0.1,7,-0.3],[0.3, -0.2, 10]])\n",
    "#F = np.array([7.85, -19.3, 71.4])\n",
    "\n",
    "\n",
    "def resolve_jacobi(ite, tol, K, F):\n",
    "    contador = 0\n",
    "    linhas, colunas = np.shape(K)\n",
    "    #linhas = len(F)\n",
    "    #colunas = linhas\n",
    "    X = np.zeros((linhas, 1))\n",
    "    X_novo = np.zeros((linhas, 1))\n",
    "    erros_lista = np.ones((linhas, 1))\n",
    "    \n",
    "    while (contador < ite):\n",
    "        for i in range(linhas):\n",
    "            soma_k_vezes_u = 0\n",
    "            for j in range(0,colunas):\n",
    "                if (j != i):\n",
    "                    soma_k_vezes_u += K[i][j]*X[j]    \n",
    "                    \n",
    "            resultado = (F[i]-soma_k_vezes_u)/K[i][i]\n",
    "            X_novo[i] = resultado\n",
    "            \n",
    "            if (X_novo[i] != 0):\n",
    "                erros_lista[i] = abs((X_novo[i] - X[i])/X_novo[i])\n",
    "            \n",
    "            \n",
    "        for i in range(linhas):\n",
    "            X[i] = X_novo[i]   \n",
    "            \n",
    "        contador+=1\n",
    "        \n",
    "        erro = np.amax(erros_lista)\n",
    "        if erro <= tol :\n",
    "            print('Chegou na tolerância! ', contador)\n",
    "            break\n",
    "    return X\n",
    "        \n",
    "\n",
    "\n",
    "lista_resultado = resolve_jacobi(1000, 1e-8, K, F)\n",
    "\n",
    "print(lista_resultado)\n",
    "        \n",
    "\n",
    "    \n"
   ]
  },
  {
   "cell_type": "code",
   "execution_count": 49,
   "metadata": {},
   "outputs": [
    {
     "name": "stdout",
     "output_type": "stream",
     "text": [
      "Chegou na tolerância!  6\n",
      "[[ 3. ]\n",
      " [-2.5]\n",
      " [ 7. ]]\n"
     ]
    }
   ],
   "source": [
    "# Gauss-Seidel\n",
    "\n",
    "def resolve_gauss(ite, tol, K, F):\n",
    "    contador = 0\n",
    "    linhas, colunas = np.shape(K)\n",
    "    X = np.zeros((linhas, 1))\n",
    "    X_anterior = np.zeros((linhas, 1))\n",
    "    erros_lista = np.ones((linhas, 1))\n",
    "    \n",
    "    while (contador < ite):\n",
    "        for i in range(linhas):\n",
    "            X_anterior[i] = X[i]   \n",
    "        for i in range(linhas):\n",
    "            soma_k_vezes_u = 0\n",
    "            for j in range(0,colunas):\n",
    "                if (j != i):\n",
    "                    soma_k_vezes_u += K[i][j]*X[j]    \n",
    "\n",
    "            resultado = (F[i]-soma_k_vezes_u)/K[i][i]\n",
    "            X[i] = resultado\n",
    "\n",
    "            if (X[i] != 0):\n",
    "                erros_lista[i] = abs((X[i] - X_anterior[i])/X[i])\n",
    "\n",
    "        erro = np.amax(erros_lista)\n",
    "\n",
    "        contador+=1\n",
    "        \n",
    "        if erro <= tol :\n",
    "            print('Chegou na tolerância! ', contador)\n",
    "            break\n",
    "    return X\n",
    "    \n",
    "lista_resultado = resolve_gauss(1000, 1e-8, K, F)\n",
    "\n",
    "print(lista_resultado)"
   ]
  },
  {
   "cell_type": "code",
   "execution_count": null,
   "metadata": {},
   "outputs": [],
   "source": []
  }
 ],
 "metadata": {
  "kernelspec": {
   "display_name": "Python 3",
   "language": "python",
   "name": "python3"
  },
  "language_info": {
   "codemirror_mode": {
    "name": "ipython",
    "version": 3
   },
   "file_extension": ".py",
   "mimetype": "text/x-python",
   "name": "python",
   "nbconvert_exporter": "python",
   "pygments_lexer": "ipython3",
   "version": "3.7.6"
  }
 },
 "nbformat": 4,
 "nbformat_minor": 4
}
